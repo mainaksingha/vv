{
 "cells": [
  {
   "cell_type": "code",
   "execution_count": 5,
   "metadata": {
    "collapsed": true
   },
   "outputs": [],
   "source": [
    "import numpy as np\n",
    "import matplotlib.pyplot as plt\n",
    "import astropy.io.fits as fits\n",
    "from scipy.optimize import curve_fit\n",
    "from numpy import exp\n",
    "from scipy import ndimage\n",
    "from func import *\n",
    "from numpy import asarray"
   ]
  },
  {
   "cell_type": "code",
   "execution_count": 6,
   "metadata": {
    "collapsed": true
   },
   "outputs": [],
   "source": [
    "def comparison_plots(obj,x_min,x_max,y_min,y_max,arc_OIII_br,arc_OIII_nr,Hb_data,Hb_model,Hb_res,OIII_br_data,OIII_br_model,OIII_br_res,OIII_nr_data,OIII_nr_model,OIII_nr_res):\n",
    "    \n",
    "    fig = plt.figure(figsize=(15,15))\n",
    "\n",
    "    ax=plt.subplot(331)\n",
    "    fig1=plt.imshow(Hb_data,origin ='lower',interpolation ='none',extent = [x_min,x_max,y_min,y_max])\n",
    "    plt.plot(0,0,'rx')\n",
    "    plt.plot(arc_OIII_br[0],arc_OIII_br[1],'kx')\n",
    "    plt.plot(arc_OIII_nr[0],arc_OIII_nr[1],'bx')\n",
    "    plt.title(r\"BLR broad H$\\beta$ flux map\")\n",
    "    cbar = plt.colorbar(fig1,fraction=0.045, pad=0.06)\n",
    "    cbar.set_label(r\"Flux Density($\\times 10^{-16}$ erg s$^{-1}$ cm$^{-2}$)\")\n",
    "\n",
    "    ax=plt.subplot(332)\n",
    "    fig2=plt.imshow(OIII_br_data,origin =[0,0],interpolation ='none',extent = [x_min,x_max,y_min,y_max])\n",
    "    plt.plot(0,0,'rx')\n",
    "    plt.plot(arc_OIII_br[0],arc_OIII_br[1],'kx')\n",
    "    plt.plot(arc_OIII_nr[0],arc_OIII_nr[1],'bx')\n",
    "    plt.title(r\"Broad [OIII] flux map\")\n",
    "    cbar = plt.colorbar(fig2,fraction=0.045, pad=0.06)\n",
    "    cbar.set_label(r\"Flux Density($\\times 10^{-16}$ erg s$^{-1}$ cm$^{-2}$)\")\n",
    "\n",
    "    ax=plt.subplot(333)\n",
    "    fig3=plt.imshow(OIII_nr_data,origin ='lower',interpolation ='none',extent = [x_min,x_max,y_min,y_max])\n",
    "    plt.plot(0,0,'rx',label='Broad H-beta Center')\n",
    "    plt.plot(arc_OIII_br[0],arc_OIII_br[1],'kx',label='Broad OIII Center')\n",
    "    plt.plot(arc_OIII_nr[0],arc_OIII_nr[1],'bx',label='Narrow OIII Center')\n",
    "    ax.legend(bbox_to_anchor=(1.28, 1.45))\n",
    "    plt.title(r\"Narrow [OIII] flux map\")\n",
    "    cbar = plt.colorbar(fig3,fraction=0.045, pad=0.06)\n",
    "    cbar.set_label(r\"Flux Density($\\times 10^{-16}$ erg s$^{-1}$ cm$^{-2}$)\")\n",
    "\n",
    "    ax=plt.subplot(334)\n",
    "    fig4=plt.imshow(Hb_model,origin ='lower',interpolation ='none',extent = [x_min,x_max,y_min,y_max])\n",
    "    plt.plot(0,0,'rx',label='Broad H-beta Center')\n",
    "    plt.plot(arc_OIII_br[0],arc_OIII_br[1],'kx')\n",
    "    plt.plot(arc_OIII_nr[0],arc_OIII_nr[1],'bx')\n",
    "    plt.title(r\"BLR broad H$\\beta$ Moffat model\")\n",
    "    cbar = plt.colorbar(fig4,fraction=0.045, pad=0.06)\n",
    "    cbar.set_label(r\"Flux Density($\\times 10^{-16}$ erg s$^{-1}$ cm$^{-2}$)\")\n",
    "\n",
    "    ax=plt.subplot(335)\n",
    "    fig5=plt.imshow(OIII_br_model,origin ='lower',interpolation ='none',extent = [x_min,x_max,y_min,y_max])\n",
    "    plt.plot(0,0,'rx',label='Broad H-beta Center')\n",
    "    plt.plot(arc_OIII_br[0],arc_OIII_br[1], 'kx')\n",
    "    plt.plot(arc_OIII_nr[0],arc_OIII_nr[1],'bx')\n",
    "    plt.title(r\"Broad [OIII] Moffat model\")\n",
    "    cbar = plt.colorbar(fig5,fraction=0.045, pad=0.06)\n",
    "    cbar.set_label(r\"Flux Density($\\times 10^{-16}$ erg s$^{-1}$ cm$^{-2}$)\")\n",
    "\n",
    "    ax=plt.subplot(336)\n",
    "    fig6=plt.imshow(OIII_nr_model,origin ='lower',interpolation ='none',extent = [x_min,x_max,y_min,y_max])\n",
    "    plt.plot(0,0,'rx',label='Broad H-beta Center')\n",
    "    plt.plot(arc_OIII_br[0],arc_OIII_br[1],'kx')\n",
    "    plt.plot(arc_OIII_nr[0],arc_OIII_nr[1],'bx')\n",
    "    plt.title(r\"Narrow [OIII] Moffat model\")\n",
    "    cbar = plt.colorbar(fig6,fraction=0.045, pad=0.06)\n",
    "    cbar.set_label(r\"Flux Density($\\times 10^{-16}$ erg s$^{-1}$ cm$^{-2}$)\")\n",
    "\n",
    "    ax=plt.subplot(337)\n",
    "    fig7=plt.imshow(Hb_res,origin ='lower',interpolation ='none',extent = [x_min,x_max,y_min,y_max],cmap='seismic',vmax=10,vmin=-10)\n",
    "    plt.title(r\"(residual/error) for BLR broad H$\\beta$\",fontsize= 12)\n",
    "    cbar = plt.colorbar(fig7,fraction=0.045, pad=0.06)\n",
    "    cbar.set_label(r\"residual to noise ratio\")\n",
    "\n",
    "    ax=plt.subplot(338)\n",
    "    fig8=plt.imshow(OIII_br_res,origin ='lower',interpolation ='none',extent = [x_min,x_max,y_min,y_max],cmap='seismic',vmax=10,vmin=-10)\n",
    "    plt.title(r\"(residual/error) for broad [OIII]\")\n",
    "    cbar = plt.colorbar(fig8,fraction=0.045, pad=0.06)\n",
    "    cbar.set_label(r\"residual to noise ratio\")\n",
    "\n",
    "    ax=plt.subplot(339)\n",
    "    fig9=plt.imshow(OIII_nr_res,origin ='lower',interpolation ='none',extent = [x_min,x_max,y_min,y_max],cmap='seismic',vmax=10,vmin=-10)\n",
    "    plt.title(r\"(residual/error) for narrow [OIII]\")\n",
    "    cbar = plt.colorbar(fig9,fraction=0.045, pad=0.06)\n",
    "    cbar.set_label(r\"residual to noise ratio\")\n",
    "\n",
    "    plt.tight_layout(rect=[0.01, 0.008, 1, 0.8])\n",
    "    fig.savefig('%s_combined_maps.png'%(obj),overwrite=True)"
   ]
  },
  {
   "cell_type": "code",
   "execution_count": 7,
   "metadata": {
    "collapsed": true
   },
   "outputs": [],
   "source": [
    "def algorithm_script(obj,asymmetry,prefix_path_cube=\"/home/mainak/xdata/ftp.hidrive.strato.com/users/login-carsftp\"):\n",
    "    (cont_cube,cont_err,cont_wave,cont_header) = loadCube('%s/MUSE/%s/%s.cont_model.fits'%(prefix_path_cube,obj,obj))\n",
    "    \n",
    "    muse_sampling_size = sampling_size(cont_cube)\n",
    "    \n",
    "    (Hb_x,Hb_y,OIII_br_x,OIII_br_y,OIII_nr_x,OIII_nr_y) = centers(obj)  \n",
    "        \n",
    "    #pix_OIII = offset in pixel and arc_OIII = offset in arcsec \n",
    "    (pix_OIII_br,pix_OIII_nr,arc_OIII_br,arc_OIII_nr) = offset(Hb_x,Hb_y,OIII_br_x,OIII_br_y,OIII_nr_x,OIII_nr_y,muse_sampling_size)\n",
    "    \n",
    "    (x_min,x_max,y_min,y_max) = ranges(Hb_x,Hb_y,muse_sampling_size,asymmetry)\n",
    "    \n",
    "    (Hb_data,Hb_model,Hb_res,OIII_br_data,OIII_br_model,OIII_br_res,OIII_nr_data,OIII_nr_model,OIII_nr_res) = loadplot('maps_%s.fits'%(obj))\n",
    "    \n",
    "    comparison_plots(obj,x_min,x_max,y_min,y_max,arc_OIII_br,arc_OIII_nr,Hb_data,Hb_model,Hb_res,OIII_br_data,OIII_br_model,OIII_br_res,OIII_nr_data,OIII_nr_model,OIII_nr_res)"
   ]
  },
  {
   "cell_type": "code",
   "execution_count": 8,
   "metadata": {
    "collapsed": true
   },
   "outputs": [],
   "source": [
    "z = {\"HE0021-1819\":0.053197,\"HE0040-1105\":0.041692 #,\"HE0108-4743\":0.02392,\"HE0114-0015\":0.04560\n",
    "    ,\"HE0119-0118\":0.054341,\"HE0224-2834\":0.059800,\"HE0227-0913\":0.016451,\"HE0232-0900\":0.043143,\"HE0253-1641\":0.031588\n",
    "    ,\"HE0345+0056\":0.031,\"HE0351+0240\":0.036,\"HE0412-0803\":0.038160,\"HE0429-0247\":0.042009,\"HE0433-1028\":0.035550\n",
    "    ,\"HE0853+0102\":0.052,\"HE0934+0119\":0.050338,\"HE1011-0403\":0.058314,\"HE1017-0305\":0.049986,\"HE1029-1831\":0.040261\n",
    "    ,\"HE1107-0813\":0.058,\"HE1108-2813\":0.024013,\"HE1126-0407\":0.061960,\"HE1330-1013\":0.022145,\"HE1353-1917\":0.035021\n",
    "    ,\"HE1417-0909\":0.044,\"HE2211-3903\":0.039714,\"HE2222-0026\":0.059114,\"HE2233+0124\":0.056482,\"HE2302-0857\":0.046860}\n",
    "\n",
    "#z_remaining = {\"HE2128-0221\":0.05248,\"HE1248-1356\":0.01465}\n",
    "\n",
    "objs = z.keys()\n",
    "\n",
    "asymmetry = {\"HE0021-1819\":True,\"HE0040-1105\":True #,\"HE0108-4743\":dunno,\"HE0114-0015\":dunno\n",
    "    ,\"HE0119-0118\":False,\"HE0224-2834\":False,\"HE0227-0913\":False,\"HE0232-0900\":False,\"HE0253-1641\":False\n",
    "    ,\"HE0345+0056\":False,\"HE0351+0240\":False,\"HE0412-0803\":False,\"HE0429-0247\":False,\"HE0433-1028\":False\n",
    "    ,\"HE0853+0102\":False,\"HE0934+0119\":True,\"HE1011-0403\":False,\"HE1017-0305\":False,\"HE1029-1831\":False\n",
    "    ,\"HE1107-0813\":False,\"HE1108-2813\":True,\"HE1126-0407\":False,\"HE1330-1013\":True,\"HE1353-1917\":True\n",
    "    ,\"HE1417-0909\":False,\"HE2211-3903\":False,\"HE2222-0026\":False,\"HE2233+0124\":False,\"HE2302-0857\":False}\n",
    "\n",
    "for obj in objs:\n",
    "    algorithm_script(obj,asymmetry[obj])"
   ]
  },
  {
   "cell_type": "code",
   "execution_count": null,
   "metadata": {
    "collapsed": true
   },
   "outputs": [],
   "source": []
  }
 ],
 "metadata": {
  "kernelspec": {
   "display_name": "Python 2",
   "language": "python",
   "name": "python2"
  },
  "language_info": {
   "codemirror_mode": {
    "name": "ipython",
    "version": 2
   },
   "file_extension": ".py",
   "mimetype": "text/x-python",
   "name": "python",
   "nbconvert_exporter": "python",
   "pygments_lexer": "ipython2",
   "version": "2.7.14"
  }
 },
 "nbformat": 4,
 "nbformat_minor": 2
}
