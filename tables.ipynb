{
 "cells": [
  {
   "cell_type": "code",
   "execution_count": 1,
   "metadata": {
    "collapsed": true
   },
   "outputs": [],
   "source": [
    "import numpy as np\n",
    "import matplotlib.pyplot as plt\n",
    "import astropy.io.fits as fits\n",
    "from scipy.optimize import leastsq\n",
    "from scipy import ndimage\n",
    "from func import *\n",
    "from astropy.table import Table, hstack\n",
    "import os\n",
    "import glob\n",
    "from astropy.table import Table, vstack, join\n",
    "import pandas as pd"
   ]
  },
  {
   "cell_type": "code",
   "execution_count": 2,
   "metadata": {
    "collapsed": true
   },
   "outputs": [],
   "source": [
    "def tab(obj,par):\n",
    "    column_names={'Hb_x':0,'Hb_y':1,'OIII_br_x':2,'OIII_br_y':3,'OIII_nr_x':4,'OIII_nr_y':5,'off_OIII_br_pix_x':6,'off_OIII_br_pix_y':7,'off_OIII_nr_pix_x':8,'off_OIII_nr_pix_y':9,'off_OIII_br_arc_x':10,'off_OIII_br_arc_y':11,'off_OIII_nr_arc_x':12,'off_OIII_nr_arc_y':13,'off_wing_arc':14,'off_wing_parsec':15}\n",
    "    columns=[]\n",
    "    for key in column_names.keys():\n",
    "        columns.append(fits.Column(name=key,format='E',array=[par[column_names[key]]]))\n",
    "    coldefs = fits.ColDefs(columns)\n",
    "    hdu = fits.BinTableHDU.from_columns(coldefs)\n",
    "    hdu.writeto('%s_center_table.fits'%(obj),overwrite=True)   \n",
    "\n",
    "def source_tab(obj,z,d_a):\n",
    "    a1 = np.array(['%s'%(obj)])\n",
    "    a2 = np.array([z])\n",
    "    a3 = np.array([d_a])\n",
    "    hdu = fits.BinTableHDU.from_columns([fits.Column(name='Source', format='20A', array=a1),\n",
    "          fits.Column(name='z',format='E',array=a2),fits.Column(name='d_a',format='E',array=a3)])\n",
    "    hdu.writeto('Source_name_%s.fits'%(obj),overwrite=True)  \n",
    "\n",
    "def create_center_table(obj):\n",
    "    t1 = Table.read('Source_name_%s.fits'%(obj),format='fits')\n",
    "    t2 = Table.read('%s_center_table.fits'%(obj),format='fits')\n",
    "    new = hstack([t1, t2])\n",
    "    new.write('%s_Moffat_centroids_with_source.fits'%(obj),overwrite=True)\n",
    "    \n",
    "def vel_table(obj):\n",
    "    t1 = Table.read('Source_name_%s.fits'%(obj),format='fits')\n",
    "    t2 = Table.read('%s_central_fit.fits'%(obj),format='fits')\n",
    "    new = hstack([t1, t2])\n",
    "    new.write('%s_central_tab.fits'%(obj),overwrite=True)\n",
    "\n",
    "def par_table(obj):\n",
    "    t1 = Table.read('Source_name_%s.fits'%(obj),format='fits')\n",
    "    t2 = Table.read('%s_par_table.fits'%(obj),format='fits')\n",
    "    new = hstack([t1, t2])\n",
    "    new.write('%s_parameter.fits'%(obj),overwrite=True)\n",
    "    \n",
    "def nonspectro_table(obj):\n",
    "    t1 = Table.read('Source_name_%s.fits'%(obj),format='fits')\n",
    "    t2 = Table.read('%s_non_spectro_central_fit.fits'%(obj),format='fits')\n",
    "    new = hstack([t1, t2])\n",
    "    new.write('%s_central_nonspectab.fits'%(obj),overwrite=True)\n",
    "    \n",
    "def nonspectro_BH_table(obj):\n",
    "    t1 = Table.read('Source_name_%s.fits'%(obj),format='fits')\n",
    "    t2 = Table.read('%s_par_table_nonspec.fits'%(obj),format='fits')\n",
    "    new = hstack([t1, t2])\n",
    "    new.write('%s_par_table_nonspecBH.fits'%(obj),overwrite=True)\n",
    "    \n",
    "def spectro_BH_table(obj):\n",
    "    t1 = Table.read('Source_name_%s.fits'%(obj),format='fits')\n",
    "    t2 = Table.read('%s_par_table_spec.fits'%(obj),format='fits')\n",
    "    new = hstack([t1, t2])\n",
    "    new.write('%s_par_table_specBH.fits'%(obj),overwrite=True)\n",
    "\n",
    "def flux_table(obj):\n",
    "    t1 = Table.read('Source_name_%s.fits'%(obj),format='fits')\n",
    "    t2 = Table.read('%s_compare_flux_table.fits'%(obj),format='fits')\n",
    "    new = hstack([t1, t2])\n",
    "    new.write('%s_fluxtab.fits'%(obj),overwrite=True)"
   ]
  },
  {
   "cell_type": "code",
   "execution_count": 3,
   "metadata": {
    "collapsed": true
   },
   "outputs": [],
   "source": [
    "def algorithm_script(obj,z,d_a,prefix_path_cube=\"/home/mainak/xdata/ftp.hidrive.strato.com/users/login-carsftp\"):\n",
    "    (cont_cube,cont_err,cont_wave,cont_header) = loadCube('%s/MUSE/%s/%s.cont_model.fits'%(prefix_path_cube,obj,obj))\n",
    "    muse_sampling_size = sampling_size(cont_cube)\n",
    "   \n",
    "    (Hb_x,Hb_y,OIII_br_x,OIII_br_y,OIII_nr_x,OIII_nr_y) = centers(obj)\n",
    "    (off_OIII_br_pix,off_OIII_nr_pix,off_OIII_br_arc,off_OIII_nr_arc) = offset(Hb_x,Hb_y,OIII_br_x,OIII_br_y,OIII_nr_x,OIII_nr_y,muse_sampling_size)\n",
    "    (off_OIII_br_pix_x,off_OIII_br_pix_y) = off_OIII_br_pix\n",
    "    (off_OIII_nr_pix_x,off_OIII_nr_pix_y) = off_OIII_nr_pix\n",
    "    (off_OIII_br_arc_x,off_OIII_br_arc_y) = off_OIII_br_arc\n",
    "    (off_OIII_nr_arc_x,off_OIII_nr_arc_y) = off_OIII_nr_arc\n",
    "    off_wing_arc = np.sqrt((off_OIII_br_arc_x)**2 + (off_OIII_br_arc_y)**2)\n",
    "    off_wing_parsec = 4.848*d_a*off_wing_arc\n",
    "    #print '%s'%(obj),off_wing_arc,d_a,off_wing_parsec\n",
    "    \n",
    "    par = [Hb_x,Hb_y,OIII_br_x,OIII_br_y,OIII_nr_x,OIII_nr_y,off_OIII_br_pix_x,off_OIII_br_pix_y,off_OIII_nr_pix_x,off_OIII_nr_pix_y,off_OIII_br_arc_x,off_OIII_br_arc_y,off_OIII_nr_arc_x,off_OIII_nr_arc_y,off_wing_arc,off_wing_parsec]\n",
    "    tab(obj,par)\n",
    "    source_tab(obj,z,d_a)\n",
    "    create_center_table(obj)\n",
    "    vel_table(obj)\n",
    "    par_table(obj)\n",
    "    nonspectro_table(obj)\n",
    "    nonspectro_BH_table(obj)\n",
    "    spectro_BH_table(obj)\n",
    "    flux_table(obj)"
   ]
  },
  {
   "cell_type": "code",
   "execution_count": 4,
   "metadata": {
    "collapsed": true
   },
   "outputs": [],
   "source": [
    "z = {\"HE0021-1819\":0.053197,\"HE0040-1105\":0.041692 #,\"HE0108-4743\":0.02392,\"HE0114-0015\":0.04560\n",
    "    ,\"HE0119-0118\":0.054341,\"HE0224-2834\":0.059800,\"HE0227-0913\":0.016451,\"HE0232-0900\":0.043143,\"HE0253-1641\":0.031588\n",
    "    ,\"HE0345+0056\":0.031,\"HE0351+0240\":0.036,\"HE0412-0803\":0.038160,\"HE0429-0247\":0.042009,\"HE0433-1028\":0.035550\n",
    "    ,\"HE0853+0102\":0.052,\"HE0934+0119\":0.050338,\"HE1011-0403\":0.058314,\"HE1017-0305\":0.049986,\"HE1029-1831\":0.040261\n",
    "    ,\"HE1107-0813\":0.058,\"HE1108-2813\":0.024013,\"HE1126-0407\":0.061960,\"HE1330-1013\":0.022145,\"HE1353-1917\":0.035021\n",
    "    ,\"HE1417-0909\":0.044,\"HE2211-3903\":0.039714,\"HE2222-0026\":0.059114,\"HE2233+0124\":0.056482,\"HE2302-0857\":0.046860}\n",
    "\n",
    "\n",
    "d_a = {\"HE0021-1819\":213.8,\"HE0040-1105\":170.9 #,\"HE0108-4743\":0.02392,\"HE0114-0015\":0.04560\n",
    "    ,\"HE0119-0118\":218.1,\"HE0224-2834\":238.5,\"HE0227-0913\":69.07,\"HE0232-0900\":175.5,\"HE0253-1641\":130.2\n",
    "    ,\"HE0345+0056\":127.9,\"HE0351+0240\":147.7,\"HE0412-0803\":156.1,\"HE0429-0247\":171.1,\"HE0433-1028\":145.9\n",
    "    ,\"HE0853+0102\":209.3,\"HE0934+0119\":203.0,\"HE1011-0403\":233.0,\"HE1017-0305\":201.7,\"HE1029-1831\":164.3\n",
    "    ,\"HE1107-0813\":231.8,\"HE1108-2813\":99.91,\"HE1126-0407\":246.5,\"HE1330-1013\":92.344,\"HE1353-1917\":143.8\n",
    "    ,\"HE1417-0909\":178.8,\"HE2211-3903\":162.2,\"HE2222-0026\":236.0,\"HE2233+0124\":226.2,\"HE2302-0857\":189.8}\n",
    "\n",
    "#z_remaining = {\"HE2128-0221\":0.05248,\"HE1248-1356\":0.01465}\n",
    "\n",
    "objs = z.keys()\n",
    "\n",
    "for obj in objs:\n",
    "    algorithm_script(obj,z[obj],d_a[obj])"
   ]
  },
  {
   "cell_type": "code",
   "execution_count": 5,
   "metadata": {
    "collapsed": true
   },
   "outputs": [],
   "source": [
    "def master_table(input_filename,output_filename):\n",
    "    infiles = sorted(glob.glob(input_filename)) # './*source.fits'\n",
    "    infiles\n",
    "    tabledict = {}\n",
    "\n",
    "    for i, file in enumerate(infiles):\n",
    "        hdulist = fits.open(file)\n",
    "        bintab = hdulist[1].data\n",
    "        table = Table(bintab)\n",
    "        name = table['Source'][0]  \n",
    "        tabledict[name] = table\n",
    "\n",
    "    tab = vstack(list(tabledict.values()))\n",
    "    df = tab.to_pandas()\n",
    "    df = df.sort_values(by='Source', ascending=True)\n",
    "    dtab = Table.from_pandas(df)\n",
    "    dtab.write(output_filename, format='fits', overwrite=True)"
   ]
  },
  {
   "cell_type": "code",
   "execution_count": 6,
   "metadata": {},
   "outputs": [],
   "source": [
    "#def table_algorithmic_script(input_filename,output_filename):\n",
    "master_table(input_filename='./*with_source.fits',output_filename='final_table.fits')\n",
    "master_table(input_filename='./*tab.fits',output_filename='central_table.fits')\n",
    "master_table(input_filename='./*parameter.fits',output_filename='par_table.fits')\n",
    "master_table(input_filename='./*nonspectab.fits',output_filename='nonspectro_table.fits')\n",
    "master_table(input_filename='./*nonspecBH.fits',output_filename='nonspectro_BH_table.fits')\n",
    "master_table(input_filename='./*specBH.fits',output_filename='spectro_BH_table.fits')\n",
    "master_table(input_filename='./*fluxtab.fits',output_filename='flux_table.fits')"
   ]
  },
  {
   "cell_type": "code",
   "execution_count": 7,
   "metadata": {
    "collapsed": true
   },
   "outputs": [],
   "source": [
    "#Merging the tables from Julia\n",
    "t1 = Table.read('nuclear_fits_20160811/good/em_fits_FeII_PL.fits',format='fits')\n",
    "t2 = Table.read('nuclear_fits_20160811/problematic/em_fits_FeII_PL.fits',format='fits')\n",
    "tab = vstack([t1, t2])\n",
    "df = tab.to_pandas()\n",
    "df = df.sort_values(by='names', ascending=True)\n",
    "dtab = Table.from_pandas(df) \n",
    "fin_tab = dtab[[0,1,4,5,6,7,8,9,10,11,12,13,14,15,16,17,18,19,20,21,23,24,25,27,28,29,30]]\n",
    "fin_tab.write('BH_par.fits',overwrite=True)   "
   ]
  },
  {
   "cell_type": "code",
   "execution_count": null,
   "metadata": {
    "collapsed": true
   },
   "outputs": [],
   "source": [
    "   "
   ]
  }
 ],
 "metadata": {
  "kernelspec": {
   "display_name": "Python 2",
   "language": "python",
   "name": "python2"
  },
  "language_info": {
   "codemirror_mode": {
    "name": "ipython",
    "version": 2
   },
   "file_extension": ".py",
   "mimetype": "text/x-python",
   "name": "python",
   "nbconvert_exporter": "python",
   "pygments_lexer": "ipython2",
   "version": "2.7.14"
  }
 },
 "nbformat": 4,
 "nbformat_minor": 2
}
